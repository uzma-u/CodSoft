{
 "cells":[
  {
   "cell_type":"code",
   "source":[
    "#starting project by importing the data and analyzing perticular data\n",
    "import pandas as pd\n",
    "data=pd.read_csv('creditcard.csv')\n",
    "print(data)"
   ],
   "execution_count":6,
   "outputs":[
    {
     "name":"stdout",
     "text":[
      "            Time         V1         V2        V3        V4        V5  \\\n",
      "0            0.0  -1.359807  -0.072781  2.536347  1.378155 -0.338321   \n",
      "1            0.0   1.191857   0.266151  0.166480  0.448154  0.060018   \n",
      "2            1.0  -1.358354  -1.340163  1.773209  0.379780 -0.503198   \n",
      "3            1.0  -0.966272  -0.185226  1.792993 -0.863291 -0.010309   \n",
      "4            2.0  -1.158233   0.877737  1.548718  0.403034 -0.407193   \n",
      "...          ...        ...        ...       ...       ...       ...   \n",
      "284802  172786.0 -11.881118  10.071785 -9.834783 -2.066656 -5.364473   \n",
      "284803  172787.0  -0.732789  -0.055080  2.035030 -0.738589  0.868229   \n",
      "284804  172788.0   1.919565  -0.301254 -3.249640 -0.557828  2.630515   \n",
      "284805  172788.0  -0.240440   0.530483  0.702510  0.689799 -0.377961   \n",
      "284806  172792.0  -0.533413  -0.189733  0.703337 -0.506271 -0.012546   \n",
      "\n",
      "              V6        V7        V8        V9  ...       V21       V22  \\\n",
      "0       0.462388  0.239599  0.098698  0.363787  ... -0.018307  0.277838   \n",
      "1      -0.082361 -0.078803  0.085102 -0.255425  ... -0.225775 -0.638672   \n",
      "2       1.800499  0.791461  0.247676 -1.514654  ...  0.247998  0.771679   \n",
      "3       1.247203  0.237609  0.377436 -1.387024  ... -0.108300  0.005274   \n",
      "4       0.095921  0.592941 -0.270533  0.817739  ... -0.009431  0.798278   \n",
      "...          ...       ...       ...       ...  ...       ...       ...   \n",
      "284802 -2.606837 -4.918215  7.305334  1.914428  ...  0.213454  0.111864   \n",
      "284803  1.058415  0.024330  0.294869  0.584800  ...  0.214205  0.924384   \n",
      "284804  3.031260 -0.296827  0.708417  0.432454  ...  0.232045  0.578229   \n",
      "284805  0.623708 -0.686180  0.679145  0.392087  ...  0.265245  0.800049   \n",
      "284806 -0.649617  1.577006 -0.414650  0.486180  ...  0.261057  0.643078   \n",
      "\n",
      "             V23       V24       V25       V26       V27       V28  Amount  \\\n",
      "0      -0.110474  0.066928  0.128539 -0.189115  0.133558 -0.021053  149.62   \n",
      "1       0.101288 -0.339846  0.167170  0.125895 -0.008983  0.014724    2.69   \n",
      "2       0.909412 -0.689281 -0.327642 -0.139097 -0.055353 -0.059752  378.66   \n",
      "3      -0.190321 -1.175575  0.647376 -0.221929  0.062723  0.061458  123.50   \n",
      "4      -0.137458  0.141267 -0.206010  0.502292  0.219422  0.215153   69.99   \n",
      "...          ...       ...       ...       ...       ...       ...     ...   \n",
      "284802  1.014480 -0.509348  1.436807  0.250034  0.943651  0.823731    0.77   \n",
      "284803  0.012463 -1.016226 -0.606624 -0.395255  0.068472 -0.053527   24.79   \n",
      "284804 -0.037501  0.640134  0.265745 -0.087371  0.004455 -0.026561   67.88   \n",
      "284805 -0.163298  0.123205 -0.569159  0.546668  0.108821  0.104533   10.00   \n",
      "284806  0.376777  0.008797 -0.473649 -0.818267 -0.002415  0.013649  217.00   \n",
      "\n",
      "        Class  \n",
      "0           0  \n",
      "1           0  \n",
      "2           0  \n",
      "3           0  \n",
      "4           0  \n",
      "...       ...  \n",
      "284802      0  \n",
      "284803      0  \n",
      "284804      0  \n",
      "284805      0  \n",
      "284806      0  \n",
      "\n",
      "[284807 rows x 31 columns]\n"
     ],
     "output_type":"stream"
    }
   ],
   "metadata":{
    "datalore":{
     "node_id":"WEBMr82CXhHnkcmoVp2WTV",
     "type":"CODE",
     "hide_input_from_viewers":false,
     "hide_output_from_viewers":false,
     "report_properties":{
      "rowId":"ijFH9wyIiqvey5sQtETYil"
     }
    }
   }
  },
  {
   "cell_type":"code",
   "source":[
    "#columns of data\n",
    "data.columns"
   ],
   "execution_count":7,
   "outputs":[
    {
     "data":{
      "text\/plain":[
       "Index(['Time', 'V1', 'V2', 'V3', 'V4', 'V5', 'V6', 'V7', 'V8', 'V9', 'V10',\n",
       "       'V11', 'V12', 'V13', 'V14', 'V15', 'V16', 'V17', 'V18', 'V19', 'V20',\n",
       "       'V21', 'V22', 'V23', 'V24', 'V25', 'V26', 'V27', 'V28', 'Amount',\n",
       "       'Class'],\n",
       "      dtype='object')"
      ]
     },
     "metadata":{
      
     },
     "output_type":"display_data"
    }
   ],
   "metadata":{
    "datalore":{
     "node_id":"BaKECbA4TAWaYyufSK5ZED",
     "type":"CODE",
     "hide_input_from_viewers":false,
     "hide_output_from_viewers":false,
     "report_properties":{
      "rowId":"JzG0PqpLoNPbEdXFEhsvlN"
     }
    }
   }
  },
  {
   "cell_type":"code",
   "source":[
    "\n",
    "data.head()"
   ],
   "execution_count":8,
   "outputs":[
    {
     "data":{
      "text\/html":[
       "<div>\n",
       "<style scoped>\n",
       "    .dataframe tbody tr th:only-of-type {\n",
       "        vertical-align: middle;\n",
       "    }\n",
       "\n",
       "    .dataframe tbody tr th {\n",
       "        vertical-align: top;\n",
       "    }\n",
       "\n",
       "    .dataframe thead th {\n",
       "        text-align: right;\n",
       "    }\n",
       "<\/style>\n",
       "<table border=\"1\" class=\"dataframe\">\n",
       "  <thead>\n",
       "    <tr style=\"text-align: right;\">\n",
       "      <th><\/th>\n",
       "      <th>Time<\/th>\n",
       "      <th>V1<\/th>\n",
       "      <th>V2<\/th>\n",
       "      <th>V3<\/th>\n",
       "      <th>V4<\/th>\n",
       "      <th>V5<\/th>\n",
       "      <th>V6<\/th>\n",
       "      <th>V7<\/th>\n",
       "      <th>V8<\/th>\n",
       "      <th>V9<\/th>\n",
       "      <th>...<\/th>\n",
       "      <th>V21<\/th>\n",
       "      <th>V22<\/th>\n",
       "      <th>V23<\/th>\n",
       "      <th>V24<\/th>\n",
       "      <th>V25<\/th>\n",
       "      <th>V26<\/th>\n",
       "      <th>V27<\/th>\n",
       "      <th>V28<\/th>\n",
       "      <th>Amount<\/th>\n",
       "      <th>Class<\/th>\n",
       "    <\/tr>\n",
       "  <\/thead>\n",
       "  <tbody>\n",
       "    <tr>\n",
       "      <th>0<\/th>\n",
       "      <td>0.0<\/td>\n",
       "      <td>-1.359807<\/td>\n",
       "      <td>-0.072781<\/td>\n",
       "      <td>2.536347<\/td>\n",
       "      <td>1.378155<\/td>\n",
       "      <td>-0.338321<\/td>\n",
       "      <td>0.462388<\/td>\n",
       "      <td>0.239599<\/td>\n",
       "      <td>0.098698<\/td>\n",
       "      <td>0.363787<\/td>\n",
       "      <td>...<\/td>\n",
       "      <td>-0.018307<\/td>\n",
       "      <td>0.277838<\/td>\n",
       "      <td>-0.110474<\/td>\n",
       "      <td>0.066928<\/td>\n",
       "      <td>0.128539<\/td>\n",
       "      <td>-0.189115<\/td>\n",
       "      <td>0.133558<\/td>\n",
       "      <td>-0.021053<\/td>\n",
       "      <td>149.62<\/td>\n",
       "      <td>0<\/td>\n",
       "    <\/tr>\n",
       "    <tr>\n",
       "      <th>1<\/th>\n",
       "      <td>0.0<\/td>\n",
       "      <td>1.191857<\/td>\n",
       "      <td>0.266151<\/td>\n",
       "      <td>0.166480<\/td>\n",
       "      <td>0.448154<\/td>\n",
       "      <td>0.060018<\/td>\n",
       "      <td>-0.082361<\/td>\n",
       "      <td>-0.078803<\/td>\n",
       "      <td>0.085102<\/td>\n",
       "      <td>-0.255425<\/td>\n",
       "      <td>...<\/td>\n",
       "      <td>-0.225775<\/td>\n",
       "      <td>-0.638672<\/td>\n",
       "      <td>0.101288<\/td>\n",
       "      <td>-0.339846<\/td>\n",
       "      <td>0.167170<\/td>\n",
       "      <td>0.125895<\/td>\n",
       "      <td>-0.008983<\/td>\n",
       "      <td>0.014724<\/td>\n",
       "      <td>2.69<\/td>\n",
       "      <td>0<\/td>\n",
       "    <\/tr>\n",
       "    <tr>\n",
       "      <th>2<\/th>\n",
       "      <td>1.0<\/td>\n",
       "      <td>-1.358354<\/td>\n",
       "      <td>-1.340163<\/td>\n",
       "      <td>1.773209<\/td>\n",
       "      <td>0.379780<\/td>\n",
       "      <td>-0.503198<\/td>\n",
       "      <td>1.800499<\/td>\n",
       "      <td>0.791461<\/td>\n",
       "      <td>0.247676<\/td>\n",
       "      <td>-1.514654<\/td>\n",
       "      <td>...<\/td>\n",
       "      <td>0.247998<\/td>\n",
       "      <td>0.771679<\/td>\n",
       "      <td>0.909412<\/td>\n",
       "      <td>-0.689281<\/td>\n",
       "      <td>-0.327642<\/td>\n",
       "      <td>-0.139097<\/td>\n",
       "      <td>-0.055353<\/td>\n",
       "      <td>-0.059752<\/td>\n",
       "      <td>378.66<\/td>\n",
       "      <td>0<\/td>\n",
       "    <\/tr>\n",
       "    <tr>\n",
       "      <th>3<\/th>\n",
       "      <td>1.0<\/td>\n",
       "      <td>-0.966272<\/td>\n",
       "      <td>-0.185226<\/td>\n",
       "      <td>1.792993<\/td>\n",
       "      <td>-0.863291<\/td>\n",
       "      <td>-0.010309<\/td>\n",
       "      <td>1.247203<\/td>\n",
       "      <td>0.237609<\/td>\n",
       "      <td>0.377436<\/td>\n",
       "      <td>-1.387024<\/td>\n",
       "      <td>...<\/td>\n",
       "      <td>-0.108300<\/td>\n",
       "      <td>0.005274<\/td>\n",
       "      <td>-0.190321<\/td>\n",
       "      <td>-1.175575<\/td>\n",
       "      <td>0.647376<\/td>\n",
       "      <td>-0.221929<\/td>\n",
       "      <td>0.062723<\/td>\n",
       "      <td>0.061458<\/td>\n",
       "      <td>123.50<\/td>\n",
       "      <td>0<\/td>\n",
       "    <\/tr>\n",
       "    <tr>\n",
       "      <th>4<\/th>\n",
       "      <td>2.0<\/td>\n",
       "      <td>-1.158233<\/td>\n",
       "      <td>0.877737<\/td>\n",
       "      <td>1.548718<\/td>\n",
       "      <td>0.403034<\/td>\n",
       "      <td>-0.407193<\/td>\n",
       "      <td>0.095921<\/td>\n",
       "      <td>0.592941<\/td>\n",
       "      <td>-0.270533<\/td>\n",
       "      <td>0.817739<\/td>\n",
       "      <td>...<\/td>\n",
       "      <td>-0.009431<\/td>\n",
       "      <td>0.798278<\/td>\n",
       "      <td>-0.137458<\/td>\n",
       "      <td>0.141267<\/td>\n",
       "      <td>-0.206010<\/td>\n",
       "      <td>0.502292<\/td>\n",
       "      <td>0.219422<\/td>\n",
       "      <td>0.215153<\/td>\n",
       "      <td>69.99<\/td>\n",
       "      <td>0<\/td>\n",
       "    <\/tr>\n",
       "  <\/tbody>\n",
       "<\/table>\n",
       "<p>5 rows × 31 columns<\/p>\n",
       "<\/div>"
      ]
     },
     "metadata":{
      
     },
     "output_type":"display_data"
    }
   ],
   "metadata":{
    "datalore":{
     "node_id":"8lKcK9uMcb9Ge6wtOrNBMC",
     "type":"CODE",
     "hide_input_from_viewers":true,
     "hide_output_from_viewers":true
    }
   }
  },
  {
   "cell_type":"code",
   "source":[
    "import pandas as pd\n",
    "data=pd.read_csv('creditcard.csv')\n",
    "data.tail()"
   ],
   "execution_count":9,
   "outputs":[
    {
     "data":{
      "text\/html":[
       "<div>\n",
       "<style scoped>\n",
       "    .dataframe tbody tr th:only-of-type {\n",
       "        vertical-align: middle;\n",
       "    }\n",
       "\n",
       "    .dataframe tbody tr th {\n",
       "        vertical-align: top;\n",
       "    }\n",
       "\n",
       "    .dataframe thead th {\n",
       "        text-align: right;\n",
       "    }\n",
       "<\/style>\n",
       "<table border=\"1\" class=\"dataframe\">\n",
       "  <thead>\n",
       "    <tr style=\"text-align: right;\">\n",
       "      <th><\/th>\n",
       "      <th>Time<\/th>\n",
       "      <th>V1<\/th>\n",
       "      <th>V2<\/th>\n",
       "      <th>V3<\/th>\n",
       "      <th>V4<\/th>\n",
       "      <th>V5<\/th>\n",
       "      <th>V6<\/th>\n",
       "      <th>V7<\/th>\n",
       "      <th>V8<\/th>\n",
       "      <th>V9<\/th>\n",
       "      <th>...<\/th>\n",
       "      <th>V21<\/th>\n",
       "      <th>V22<\/th>\n",
       "      <th>V23<\/th>\n",
       "      <th>V24<\/th>\n",
       "      <th>V25<\/th>\n",
       "      <th>V26<\/th>\n",
       "      <th>V27<\/th>\n",
       "      <th>V28<\/th>\n",
       "      <th>Amount<\/th>\n",
       "      <th>Class<\/th>\n",
       "    <\/tr>\n",
       "  <\/thead>\n",
       "  <tbody>\n",
       "    <tr>\n",
       "      <th>284802<\/th>\n",
       "      <td>172786.0<\/td>\n",
       "      <td>-11.881118<\/td>\n",
       "      <td>10.071785<\/td>\n",
       "      <td>-9.834783<\/td>\n",
       "      <td>-2.066656<\/td>\n",
       "      <td>-5.364473<\/td>\n",
       "      <td>-2.606837<\/td>\n",
       "      <td>-4.918215<\/td>\n",
       "      <td>7.305334<\/td>\n",
       "      <td>1.914428<\/td>\n",
       "      <td>...<\/td>\n",
       "      <td>0.213454<\/td>\n",
       "      <td>0.111864<\/td>\n",
       "      <td>1.014480<\/td>\n",
       "      <td>-0.509348<\/td>\n",
       "      <td>1.436807<\/td>\n",
       "      <td>0.250034<\/td>\n",
       "      <td>0.943651<\/td>\n",
       "      <td>0.823731<\/td>\n",
       "      <td>0.77<\/td>\n",
       "      <td>0<\/td>\n",
       "    <\/tr>\n",
       "    <tr>\n",
       "      <th>284803<\/th>\n",
       "      <td>172787.0<\/td>\n",
       "      <td>-0.732789<\/td>\n",
       "      <td>-0.055080<\/td>\n",
       "      <td>2.035030<\/td>\n",
       "      <td>-0.738589<\/td>\n",
       "      <td>0.868229<\/td>\n",
       "      <td>1.058415<\/td>\n",
       "      <td>0.024330<\/td>\n",
       "      <td>0.294869<\/td>\n",
       "      <td>0.584800<\/td>\n",
       "      <td>...<\/td>\n",
       "      <td>0.214205<\/td>\n",
       "      <td>0.924384<\/td>\n",
       "      <td>0.012463<\/td>\n",
       "      <td>-1.016226<\/td>\n",
       "      <td>-0.606624<\/td>\n",
       "      <td>-0.395255<\/td>\n",
       "      <td>0.068472<\/td>\n",
       "      <td>-0.053527<\/td>\n",
       "      <td>24.79<\/td>\n",
       "      <td>0<\/td>\n",
       "    <\/tr>\n",
       "    <tr>\n",
       "      <th>284804<\/th>\n",
       "      <td>172788.0<\/td>\n",
       "      <td>1.919565<\/td>\n",
       "      <td>-0.301254<\/td>\n",
       "      <td>-3.249640<\/td>\n",
       "      <td>-0.557828<\/td>\n",
       "      <td>2.630515<\/td>\n",
       "      <td>3.031260<\/td>\n",
       "      <td>-0.296827<\/td>\n",
       "      <td>0.708417<\/td>\n",
       "      <td>0.432454<\/td>\n",
       "      <td>...<\/td>\n",
       "      <td>0.232045<\/td>\n",
       "      <td>0.578229<\/td>\n",
       "      <td>-0.037501<\/td>\n",
       "      <td>0.640134<\/td>\n",
       "      <td>0.265745<\/td>\n",
       "      <td>-0.087371<\/td>\n",
       "      <td>0.004455<\/td>\n",
       "      <td>-0.026561<\/td>\n",
       "      <td>67.88<\/td>\n",
       "      <td>0<\/td>\n",
       "    <\/tr>\n",
       "    <tr>\n",
       "      <th>284805<\/th>\n",
       "      <td>172788.0<\/td>\n",
       "      <td>-0.240440<\/td>\n",
       "      <td>0.530483<\/td>\n",
       "      <td>0.702510<\/td>\n",
       "      <td>0.689799<\/td>\n",
       "      <td>-0.377961<\/td>\n",
       "      <td>0.623708<\/td>\n",
       "      <td>-0.686180<\/td>\n",
       "      <td>0.679145<\/td>\n",
       "      <td>0.392087<\/td>\n",
       "      <td>...<\/td>\n",
       "      <td>0.265245<\/td>\n",
       "      <td>0.800049<\/td>\n",
       "      <td>-0.163298<\/td>\n",
       "      <td>0.123205<\/td>\n",
       "      <td>-0.569159<\/td>\n",
       "      <td>0.546668<\/td>\n",
       "      <td>0.108821<\/td>\n",
       "      <td>0.104533<\/td>\n",
       "      <td>10.00<\/td>\n",
       "      <td>0<\/td>\n",
       "    <\/tr>\n",
       "    <tr>\n",
       "      <th>284806<\/th>\n",
       "      <td>172792.0<\/td>\n",
       "      <td>-0.533413<\/td>\n",
       "      <td>-0.189733<\/td>\n",
       "      <td>0.703337<\/td>\n",
       "      <td>-0.506271<\/td>\n",
       "      <td>-0.012546<\/td>\n",
       "      <td>-0.649617<\/td>\n",
       "      <td>1.577006<\/td>\n",
       "      <td>-0.414650<\/td>\n",
       "      <td>0.486180<\/td>\n",
       "      <td>...<\/td>\n",
       "      <td>0.261057<\/td>\n",
       "      <td>0.643078<\/td>\n",
       "      <td>0.376777<\/td>\n",
       "      <td>0.008797<\/td>\n",
       "      <td>-0.473649<\/td>\n",
       "      <td>-0.818267<\/td>\n",
       "      <td>-0.002415<\/td>\n",
       "      <td>0.013649<\/td>\n",
       "      <td>217.00<\/td>\n",
       "      <td>0<\/td>\n",
       "    <\/tr>\n",
       "  <\/tbody>\n",
       "<\/table>\n",
       "<p>5 rows × 31 columns<\/p>\n",
       "<\/div>"
      ]
     },
     "metadata":{
      
     },
     "output_type":"display_data"
    }
   ],
   "metadata":{
    "datalore":{
     "node_id":"HxfwhpmErgHo6MnQE3Ntn1",
     "type":"CODE",
     "hide_input_from_viewers":true,
     "hide_output_from_viewers":true
    }
   }
  },
  {
   "cell_type":"code",
   "source":[
    "#indexing the data\n",
    "data.index"
   ],
   "execution_count":10,
   "outputs":[
    {
     "data":{
      "text\/plain":[
       "RangeIndex(start=0, stop=284807, step=1)"
      ]
     },
     "metadata":{
      
     },
     "output_type":"display_data"
    }
   ],
   "metadata":{
    "datalore":{
     "node_id":"vFZCblVSic1jh3FBa0T24x",
     "type":"CODE",
     "hide_input_from_viewers":false,
     "hide_output_from_viewers":false,
     "report_properties":{
      "rowId":"MWsladsQzxHyt2OGvwSE4D"
     }
    }
   }
  },
  {
   "cell_type":"code",
   "source":[
    "#describing data\n",
    "data.describe()"
   ],
   "execution_count":11,
   "outputs":[
    {
     "data":{
      "text\/html":[
       "<div>\n",
       "<style scoped>\n",
       "    .dataframe tbody tr th:only-of-type {\n",
       "        vertical-align: middle;\n",
       "    }\n",
       "\n",
       "    .dataframe tbody tr th {\n",
       "        vertical-align: top;\n",
       "    }\n",
       "\n",
       "    .dataframe thead th {\n",
       "        text-align: right;\n",
       "    }\n",
       "<\/style>\n",
       "<table border=\"1\" class=\"dataframe\">\n",
       "  <thead>\n",
       "    <tr style=\"text-align: right;\">\n",
       "      <th><\/th>\n",
       "      <th>Time<\/th>\n",
       "      <th>V1<\/th>\n",
       "      <th>V2<\/th>\n",
       "      <th>V3<\/th>\n",
       "      <th>V4<\/th>\n",
       "      <th>V5<\/th>\n",
       "      <th>V6<\/th>\n",
       "      <th>V7<\/th>\n",
       "      <th>V8<\/th>\n",
       "      <th>V9<\/th>\n",
       "      <th>...<\/th>\n",
       "      <th>V21<\/th>\n",
       "      <th>V22<\/th>\n",
       "      <th>V23<\/th>\n",
       "      <th>V24<\/th>\n",
       "      <th>V25<\/th>\n",
       "      <th>V26<\/th>\n",
       "      <th>V27<\/th>\n",
       "      <th>V28<\/th>\n",
       "      <th>Amount<\/th>\n",
       "      <th>Class<\/th>\n",
       "    <\/tr>\n",
       "  <\/thead>\n",
       "  <tbody>\n",
       "    <tr>\n",
       "      <th>count<\/th>\n",
       "      <td>284807.000000<\/td>\n",
       "      <td>2.848070e+05<\/td>\n",
       "      <td>2.848070e+05<\/td>\n",
       "      <td>2.848070e+05<\/td>\n",
       "      <td>2.848070e+05<\/td>\n",
       "      <td>2.848070e+05<\/td>\n",
       "      <td>2.848070e+05<\/td>\n",
       "      <td>2.848070e+05<\/td>\n",
       "      <td>2.848070e+05<\/td>\n",
       "      <td>2.848070e+05<\/td>\n",
       "      <td>...<\/td>\n",
       "      <td>2.848070e+05<\/td>\n",
       "      <td>2.848070e+05<\/td>\n",
       "      <td>2.848070e+05<\/td>\n",
       "      <td>2.848070e+05<\/td>\n",
       "      <td>2.848070e+05<\/td>\n",
       "      <td>2.848070e+05<\/td>\n",
       "      <td>2.848070e+05<\/td>\n",
       "      <td>2.848070e+05<\/td>\n",
       "      <td>284807.000000<\/td>\n",
       "      <td>284807.000000<\/td>\n",
       "    <\/tr>\n",
       "    <tr>\n",
       "      <th>mean<\/th>\n",
       "      <td>94813.859575<\/td>\n",
       "      <td>1.168375e-15<\/td>\n",
       "      <td>3.416908e-16<\/td>\n",
       "      <td>-1.379537e-15<\/td>\n",
       "      <td>2.074095e-15<\/td>\n",
       "      <td>9.604066e-16<\/td>\n",
       "      <td>1.487313e-15<\/td>\n",
       "      <td>-5.556467e-16<\/td>\n",
       "      <td>1.213481e-16<\/td>\n",
       "      <td>-2.406331e-15<\/td>\n",
       "      <td>...<\/td>\n",
       "      <td>1.654067e-16<\/td>\n",
       "      <td>-3.568593e-16<\/td>\n",
       "      <td>2.578648e-16<\/td>\n",
       "      <td>4.473266e-15<\/td>\n",
       "      <td>5.340915e-16<\/td>\n",
       "      <td>1.683437e-15<\/td>\n",
       "      <td>-3.660091e-16<\/td>\n",
       "      <td>-1.227390e-16<\/td>\n",
       "      <td>88.349619<\/td>\n",
       "      <td>0.001727<\/td>\n",
       "    <\/tr>\n",
       "    <tr>\n",
       "      <th>std<\/th>\n",
       "      <td>47488.145955<\/td>\n",
       "      <td>1.958696e+00<\/td>\n",
       "      <td>1.651309e+00<\/td>\n",
       "      <td>1.516255e+00<\/td>\n",
       "      <td>1.415869e+00<\/td>\n",
       "      <td>1.380247e+00<\/td>\n",
       "      <td>1.332271e+00<\/td>\n",
       "      <td>1.237094e+00<\/td>\n",
       "      <td>1.194353e+00<\/td>\n",
       "      <td>1.098632e+00<\/td>\n",
       "      <td>...<\/td>\n",
       "      <td>7.345240e-01<\/td>\n",
       "      <td>7.257016e-01<\/td>\n",
       "      <td>6.244603e-01<\/td>\n",
       "      <td>6.056471e-01<\/td>\n",
       "      <td>5.212781e-01<\/td>\n",
       "      <td>4.822270e-01<\/td>\n",
       "      <td>4.036325e-01<\/td>\n",
       "      <td>3.300833e-01<\/td>\n",
       "      <td>250.120109<\/td>\n",
       "      <td>0.041527<\/td>\n",
       "    <\/tr>\n",
       "    <tr>\n",
       "      <th>min<\/th>\n",
       "      <td>0.000000<\/td>\n",
       "      <td>-5.640751e+01<\/td>\n",
       "      <td>-7.271573e+01<\/td>\n",
       "      <td>-4.832559e+01<\/td>\n",
       "      <td>-5.683171e+00<\/td>\n",
       "      <td>-1.137433e+02<\/td>\n",
       "      <td>-2.616051e+01<\/td>\n",
       "      <td>-4.355724e+01<\/td>\n",
       "      <td>-7.321672e+01<\/td>\n",
       "      <td>-1.343407e+01<\/td>\n",
       "      <td>...<\/td>\n",
       "      <td>-3.483038e+01<\/td>\n",
       "      <td>-1.093314e+01<\/td>\n",
       "      <td>-4.480774e+01<\/td>\n",
       "      <td>-2.836627e+00<\/td>\n",
       "      <td>-1.029540e+01<\/td>\n",
       "      <td>-2.604551e+00<\/td>\n",
       "      <td>-2.256568e+01<\/td>\n",
       "      <td>-1.543008e+01<\/td>\n",
       "      <td>0.000000<\/td>\n",
       "      <td>0.000000<\/td>\n",
       "    <\/tr>\n",
       "    <tr>\n",
       "      <th>25%<\/th>\n",
       "      <td>54201.500000<\/td>\n",
       "      <td>-9.203734e-01<\/td>\n",
       "      <td>-5.985499e-01<\/td>\n",
       "      <td>-8.903648e-01<\/td>\n",
       "      <td>-8.486401e-01<\/td>\n",
       "      <td>-6.915971e-01<\/td>\n",
       "      <td>-7.682956e-01<\/td>\n",
       "      <td>-5.540759e-01<\/td>\n",
       "      <td>-2.086297e-01<\/td>\n",
       "      <td>-6.430976e-01<\/td>\n",
       "      <td>...<\/td>\n",
       "      <td>-2.283949e-01<\/td>\n",
       "      <td>-5.423504e-01<\/td>\n",
       "      <td>-1.618463e-01<\/td>\n",
       "      <td>-3.545861e-01<\/td>\n",
       "      <td>-3.171451e-01<\/td>\n",
       "      <td>-3.269839e-01<\/td>\n",
       "      <td>-7.083953e-02<\/td>\n",
       "      <td>-5.295979e-02<\/td>\n",
       "      <td>5.600000<\/td>\n",
       "      <td>0.000000<\/td>\n",
       "    <\/tr>\n",
       "    <tr>\n",
       "      <th>50%<\/th>\n",
       "      <td>84692.000000<\/td>\n",
       "      <td>1.810880e-02<\/td>\n",
       "      <td>6.548556e-02<\/td>\n",
       "      <td>1.798463e-01<\/td>\n",
       "      <td>-1.984653e-02<\/td>\n",
       "      <td>-5.433583e-02<\/td>\n",
       "      <td>-2.741871e-01<\/td>\n",
       "      <td>4.010308e-02<\/td>\n",
       "      <td>2.235804e-02<\/td>\n",
       "      <td>-5.142873e-02<\/td>\n",
       "      <td>...<\/td>\n",
       "      <td>-2.945017e-02<\/td>\n",
       "      <td>6.781943e-03<\/td>\n",
       "      <td>-1.119293e-02<\/td>\n",
       "      <td>4.097606e-02<\/td>\n",
       "      <td>1.659350e-02<\/td>\n",
       "      <td>-5.213911e-02<\/td>\n",
       "      <td>1.342146e-03<\/td>\n",
       "      <td>1.124383e-02<\/td>\n",
       "      <td>22.000000<\/td>\n",
       "      <td>0.000000<\/td>\n",
       "    <\/tr>\n",
       "    <tr>\n",
       "      <th>75%<\/th>\n",
       "      <td>139320.500000<\/td>\n",
       "      <td>1.315642e+00<\/td>\n",
       "      <td>8.037239e-01<\/td>\n",
       "      <td>1.027196e+00<\/td>\n",
       "      <td>7.433413e-01<\/td>\n",
       "      <td>6.119264e-01<\/td>\n",
       "      <td>3.985649e-01<\/td>\n",
       "      <td>5.704361e-01<\/td>\n",
       "      <td>3.273459e-01<\/td>\n",
       "      <td>5.971390e-01<\/td>\n",
       "      <td>...<\/td>\n",
       "      <td>1.863772e-01<\/td>\n",
       "      <td>5.285536e-01<\/td>\n",
       "      <td>1.476421e-01<\/td>\n",
       "      <td>4.395266e-01<\/td>\n",
       "      <td>3.507156e-01<\/td>\n",
       "      <td>2.409522e-01<\/td>\n",
       "      <td>9.104512e-02<\/td>\n",
       "      <td>7.827995e-02<\/td>\n",
       "      <td>77.165000<\/td>\n",
       "      <td>0.000000<\/td>\n",
       "    <\/tr>\n",
       "    <tr>\n",
       "      <th>max<\/th>\n",
       "      <td>172792.000000<\/td>\n",
       "      <td>2.454930e+00<\/td>\n",
       "      <td>2.205773e+01<\/td>\n",
       "      <td>9.382558e+00<\/td>\n",
       "      <td>1.687534e+01<\/td>\n",
       "      <td>3.480167e+01<\/td>\n",
       "      <td>7.330163e+01<\/td>\n",
       "      <td>1.205895e+02<\/td>\n",
       "      <td>2.000721e+01<\/td>\n",
       "      <td>1.559499e+01<\/td>\n",
       "      <td>...<\/td>\n",
       "      <td>2.720284e+01<\/td>\n",
       "      <td>1.050309e+01<\/td>\n",
       "      <td>2.252841e+01<\/td>\n",
       "      <td>4.584549e+00<\/td>\n",
       "      <td>7.519589e+00<\/td>\n",
       "      <td>3.517346e+00<\/td>\n",
       "      <td>3.161220e+01<\/td>\n",
       "      <td>3.384781e+01<\/td>\n",
       "      <td>25691.160000<\/td>\n",
       "      <td>1.000000<\/td>\n",
       "    <\/tr>\n",
       "  <\/tbody>\n",
       "<\/table>\n",
       "<p>8 rows × 31 columns<\/p>\n",
       "<\/div>"
      ]
     },
     "metadata":{
      
     },
     "output_type":"display_data"
    }
   ],
   "metadata":{
    "datalore":{
     "node_id":"MPlaYHQWj7jIzgNrJE6oM0",
     "type":"CODE",
     "hide_input_from_viewers":false,
     "hide_output_from_viewers":false,
     "report_properties":{
      "rowId":"wjHVbznLt605VcJeV5Cdfj"
     }
    }
   }
  },
  {
   "cell_type":"code",
   "source":[
    "import pandas as pd\n",
    "data=pd.read_csv('creditcard.csv')\n",
    "pd.set_option(\"display.float\", \"{:.2f}\".format)\n",
    "\n",
    "data.describe()"
   ],
   "execution_count":12,
   "outputs":[
    {
     "data":{
      "text\/html":[
       "<div>\n",
       "<style scoped>\n",
       "    .dataframe tbody tr th:only-of-type {\n",
       "        vertical-align: middle;\n",
       "    }\n",
       "\n",
       "    .dataframe tbody tr th {\n",
       "        vertical-align: top;\n",
       "    }\n",
       "\n",
       "    .dataframe thead th {\n",
       "        text-align: right;\n",
       "    }\n",
       "<\/style>\n",
       "<table border=\"1\" class=\"dataframe\">\n",
       "  <thead>\n",
       "    <tr style=\"text-align: right;\">\n",
       "      <th><\/th>\n",
       "      <th>Time<\/th>\n",
       "      <th>V1<\/th>\n",
       "      <th>V2<\/th>\n",
       "      <th>V3<\/th>\n",
       "      <th>V4<\/th>\n",
       "      <th>V5<\/th>\n",
       "      <th>V6<\/th>\n",
       "      <th>V7<\/th>\n",
       "      <th>V8<\/th>\n",
       "      <th>V9<\/th>\n",
       "      <th>...<\/th>\n",
       "      <th>V21<\/th>\n",
       "      <th>V22<\/th>\n",
       "      <th>V23<\/th>\n",
       "      <th>V24<\/th>\n",
       "      <th>V25<\/th>\n",
       "      <th>V26<\/th>\n",
       "      <th>V27<\/th>\n",
       "      <th>V28<\/th>\n",
       "      <th>Amount<\/th>\n",
       "      <th>Class<\/th>\n",
       "    <\/tr>\n",
       "  <\/thead>\n",
       "  <tbody>\n",
       "    <tr>\n",
       "      <th>count<\/th>\n",
       "      <td>284807.00<\/td>\n",
       "      <td>284807.00<\/td>\n",
       "      <td>284807.00<\/td>\n",
       "      <td>284807.00<\/td>\n",
       "      <td>284807.00<\/td>\n",
       "      <td>284807.00<\/td>\n",
       "      <td>284807.00<\/td>\n",
       "      <td>284807.00<\/td>\n",
       "      <td>284807.00<\/td>\n",
       "      <td>284807.00<\/td>\n",
       "      <td>...<\/td>\n",
       "      <td>284807.00<\/td>\n",
       "      <td>284807.00<\/td>\n",
       "      <td>284807.00<\/td>\n",
       "      <td>284807.00<\/td>\n",
       "      <td>284807.00<\/td>\n",
       "      <td>284807.00<\/td>\n",
       "      <td>284807.00<\/td>\n",
       "      <td>284807.00<\/td>\n",
       "      <td>284807.00<\/td>\n",
       "      <td>284807.00<\/td>\n",
       "    <\/tr>\n",
       "    <tr>\n",
       "      <th>mean<\/th>\n",
       "      <td>94813.86<\/td>\n",
       "      <td>0.00<\/td>\n",
       "      <td>0.00<\/td>\n",
       "      <td>-0.00<\/td>\n",
       "      <td>0.00<\/td>\n",
       "      <td>0.00<\/td>\n",
       "      <td>0.00<\/td>\n",
       "      <td>-0.00<\/td>\n",
       "      <td>0.00<\/td>\n",
       "      <td>-0.00<\/td>\n",
       "      <td>...<\/td>\n",
       "      <td>0.00<\/td>\n",
       "      <td>-0.00<\/td>\n",
       "      <td>0.00<\/td>\n",
       "      <td>0.00<\/td>\n",
       "      <td>0.00<\/td>\n",
       "      <td>0.00<\/td>\n",
       "      <td>-0.00<\/td>\n",
       "      <td>-0.00<\/td>\n",
       "      <td>88.35<\/td>\n",
       "      <td>0.00<\/td>\n",
       "    <\/tr>\n",
       "    <tr>\n",
       "      <th>std<\/th>\n",
       "      <td>47488.15<\/td>\n",
       "      <td>1.96<\/td>\n",
       "      <td>1.65<\/td>\n",
       "      <td>1.52<\/td>\n",
       "      <td>1.42<\/td>\n",
       "      <td>1.38<\/td>\n",
       "      <td>1.33<\/td>\n",
       "      <td>1.24<\/td>\n",
       "      <td>1.19<\/td>\n",
       "      <td>1.10<\/td>\n",
       "      <td>...<\/td>\n",
       "      <td>0.73<\/td>\n",
       "      <td>0.73<\/td>\n",
       "      <td>0.62<\/td>\n",
       "      <td>0.61<\/td>\n",
       "      <td>0.52<\/td>\n",
       "      <td>0.48<\/td>\n",
       "      <td>0.40<\/td>\n",
       "      <td>0.33<\/td>\n",
       "      <td>250.12<\/td>\n",
       "      <td>0.04<\/td>\n",
       "    <\/tr>\n",
       "    <tr>\n",
       "      <th>min<\/th>\n",
       "      <td>0.00<\/td>\n",
       "      <td>-56.41<\/td>\n",
       "      <td>-72.72<\/td>\n",
       "      <td>-48.33<\/td>\n",
       "      <td>-5.68<\/td>\n",
       "      <td>-113.74<\/td>\n",
       "      <td>-26.16<\/td>\n",
       "      <td>-43.56<\/td>\n",
       "      <td>-73.22<\/td>\n",
       "      <td>-13.43<\/td>\n",
       "      <td>...<\/td>\n",
       "      <td>-34.83<\/td>\n",
       "      <td>-10.93<\/td>\n",
       "      <td>-44.81<\/td>\n",
       "      <td>-2.84<\/td>\n",
       "      <td>-10.30<\/td>\n",
       "      <td>-2.60<\/td>\n",
       "      <td>-22.57<\/td>\n",
       "      <td>-15.43<\/td>\n",
       "      <td>0.00<\/td>\n",
       "      <td>0.00<\/td>\n",
       "    <\/tr>\n",
       "    <tr>\n",
       "      <th>25%<\/th>\n",
       "      <td>54201.50<\/td>\n",
       "      <td>-0.92<\/td>\n",
       "      <td>-0.60<\/td>\n",
       "      <td>-0.89<\/td>\n",
       "      <td>-0.85<\/td>\n",
       "      <td>-0.69<\/td>\n",
       "      <td>-0.77<\/td>\n",
       "      <td>-0.55<\/td>\n",
       "      <td>-0.21<\/td>\n",
       "      <td>-0.64<\/td>\n",
       "      <td>...<\/td>\n",
       "      <td>-0.23<\/td>\n",
       "      <td>-0.54<\/td>\n",
       "      <td>-0.16<\/td>\n",
       "      <td>-0.35<\/td>\n",
       "      <td>-0.32<\/td>\n",
       "      <td>-0.33<\/td>\n",
       "      <td>-0.07<\/td>\n",
       "      <td>-0.05<\/td>\n",
       "      <td>5.60<\/td>\n",
       "      <td>0.00<\/td>\n",
       "    <\/tr>\n",
       "    <tr>\n",
       "      <th>50%<\/th>\n",
       "      <td>84692.00<\/td>\n",
       "      <td>0.02<\/td>\n",
       "      <td>0.07<\/td>\n",
       "      <td>0.18<\/td>\n",
       "      <td>-0.02<\/td>\n",
       "      <td>-0.05<\/td>\n",
       "      <td>-0.27<\/td>\n",
       "      <td>0.04<\/td>\n",
       "      <td>0.02<\/td>\n",
       "      <td>-0.05<\/td>\n",
       "      <td>...<\/td>\n",
       "      <td>-0.03<\/td>\n",
       "      <td>0.01<\/td>\n",
       "      <td>-0.01<\/td>\n",
       "      <td>0.04<\/td>\n",
       "      <td>0.02<\/td>\n",
       "      <td>-0.05<\/td>\n",
       "      <td>0.00<\/td>\n",
       "      <td>0.01<\/td>\n",
       "      <td>22.00<\/td>\n",
       "      <td>0.00<\/td>\n",
       "    <\/tr>\n",
       "    <tr>\n",
       "      <th>75%<\/th>\n",
       "      <td>139320.50<\/td>\n",
       "      <td>1.32<\/td>\n",
       "      <td>0.80<\/td>\n",
       "      <td>1.03<\/td>\n",
       "      <td>0.74<\/td>\n",
       "      <td>0.61<\/td>\n",
       "      <td>0.40<\/td>\n",
       "      <td>0.57<\/td>\n",
       "      <td>0.33<\/td>\n",
       "      <td>0.60<\/td>\n",
       "      <td>...<\/td>\n",
       "      <td>0.19<\/td>\n",
       "      <td>0.53<\/td>\n",
       "      <td>0.15<\/td>\n",
       "      <td>0.44<\/td>\n",
       "      <td>0.35<\/td>\n",
       "      <td>0.24<\/td>\n",
       "      <td>0.09<\/td>\n",
       "      <td>0.08<\/td>\n",
       "      <td>77.16<\/td>\n",
       "      <td>0.00<\/td>\n",
       "    <\/tr>\n",
       "    <tr>\n",
       "      <th>max<\/th>\n",
       "      <td>172792.00<\/td>\n",
       "      <td>2.45<\/td>\n",
       "      <td>22.06<\/td>\n",
       "      <td>9.38<\/td>\n",
       "      <td>16.88<\/td>\n",
       "      <td>34.80<\/td>\n",
       "      <td>73.30<\/td>\n",
       "      <td>120.59<\/td>\n",
       "      <td>20.01<\/td>\n",
       "      <td>15.59<\/td>\n",
       "      <td>...<\/td>\n",
       "      <td>27.20<\/td>\n",
       "      <td>10.50<\/td>\n",
       "      <td>22.53<\/td>\n",
       "      <td>4.58<\/td>\n",
       "      <td>7.52<\/td>\n",
       "      <td>3.52<\/td>\n",
       "      <td>31.61<\/td>\n",
       "      <td>33.85<\/td>\n",
       "      <td>25691.16<\/td>\n",
       "      <td>1.00<\/td>\n",
       "    <\/tr>\n",
       "  <\/tbody>\n",
       "<\/table>\n",
       "<p>8 rows × 31 columns<\/p>\n",
       "<\/div>"
      ]
     },
     "metadata":{
      
     },
     "output_type":"display_data"
    }
   ],
   "metadata":{
    "datalore":{
     "node_id":"9y3FGxFTwjvGx1F8RSYuLz",
     "type":"CODE",
     "hide_input_from_viewers":false,
     "hide_output_from_viewers":false,
     "report_properties":{
      "rowId":"6sahIVHNCsqXGQtPAjsrns"
     }
    }
   }
  },
  {
   "cell_type":"code",
   "source":[
    "data.isnull().sum().sum()"
   ],
   "execution_count":13,
   "outputs":[
    {
     "data":{
      "text\/plain":[
       "0"
      ]
     },
     "metadata":{
      
     },
     "output_type":"display_data"
    }
   ],
   "metadata":{
    "datalore":{
     "node_id":"Tur4qaIM4aP3qVFAkokOz9",
     "type":"CODE",
     "hide_input_from_viewers":false,
     "hide_output_from_viewers":false,
     "report_properties":{
      "rowId":"4cd64RE73eFVG2ng9iW20E"
     }
    }
   }
  },
  {
   "cell_type":"code",
   "source":[
    "x=data.iloc[:,:4]\n",
    "y=data.iloc[:,4]\n",
    "print(x)\n",
    "print(y)"
   ],
   "execution_count":14,
   "outputs":[
    {
     "name":"stdout",
     "text":[
      "            Time     V1    V2    V3\n",
      "0           0.00  -1.36 -0.07  2.54\n",
      "1           0.00   1.19  0.27  0.17\n",
      "2           1.00  -1.36 -1.34  1.77\n",
      "3           1.00  -0.97 -0.19  1.79\n",
      "4           2.00  -1.16  0.88  1.55\n",
      "...          ...    ...   ...   ...\n",
      "284802 172786.00 -11.88 10.07 -9.83\n",
      "284803 172787.00  -0.73 -0.06  2.04\n",
      "284804 172788.00   1.92 -0.30 -3.25\n",
      "284805 172788.00  -0.24  0.53  0.70\n",
      "284806 172792.00  -0.53 -0.19  0.70\n",
      "\n",
      "[284807 rows x 4 columns]\n",
      "0         1.38\n",
      "1         0.45\n",
      "2         0.38\n",
      "3        -0.86\n",
      "4         0.40\n",
      "          ... \n",
      "284802   -2.07\n",
      "284803   -0.74\n",
      "284804   -0.56\n",
      "284805    0.69\n",
      "284806   -0.51\n",
      "Name: V4, Length: 284807, dtype: float64\n"
     ],
     "output_type":"stream"
    }
   ],
   "metadata":{
    "datalore":{
     "node_id":"yg4j2kq53uLWQKvaPybGwb",
     "type":"CODE",
     "hide_input_from_viewers":false,
     "hide_output_from_viewers":false,
     "report_properties":{
      "rowId":"OKnPNIuJAQaC9S1K3WP2WP"
     }
    }
   }
  },
  {
   "cell_type":"code",
   "source":[
    
   ],
   "execution_count":null,
   "outputs":[
    
   ],
   "metadata":{
    "datalore":{
     "node_id":"DsE1lJV8mTInzckqy8YKQl",
     "type":"CODE",
     "hide_input_from_viewers":true,
     "hide_output_from_viewers":true
    }
   }
  },
  {
   "cell_type":"code",
   "source":[
    "#visualiztion of Normal and Fraud data\n",
    "import matplotlib.pyplot as plt\n",
    "LABELS = [\"Normal\", \"Fraud\"]\n",
    "\n",
    "count_classes = pd.value_counts(data['Class'], sort = True)\n",
    "count_classes.plot(kind = 'bar', rot=0)\n",
    "plt.title(\"Transaction Class Distribution\")\n",
    "plt.xticks(range(2), LABELS)\n",
    "plt.xlabel(\"Class\")\n",
    "plt.ylabel(\"Frequency\");"
   ],
   "execution_count":15,
   "outputs":[
    {
     "data":{
      "image\/png":"[encoded data removed]"
     },
     "metadata":{
      "image\/png":{
       
      }
     },
     "output_type":"display_data"
    }
   ],
   "metadata":{
    "datalore":{
     "node_id":"YaeI6WEBO88KGqXj80lKCe",
     "type":"CODE",
     "hide_input_from_viewers":false,
     "hide_output_from_viewers":false,
     "report_properties":{
      "rowId":"22K1tXXVQX9HkgkTsEL5X0"
     }
    }
   }
  },
  {
   "cell_type":"code",
   "source":[
    "#class column value counts\n",
    "data.Class.value_counts()"
   ],
   "execution_count":16,
   "outputs":[
    {
     "data":{
      "text\/html":[
       "<pre>0    284315\n",
       "1       492\n",
       "Name: Class, dtype: int64<\/pre>"
      ]
     },
     "metadata":{
      
     },
     "output_type":"display_data"
    }
   ],
   "metadata":{
    "datalore":{
     "node_id":"OoVKtYli8YWnUatBGexg3D",
     "type":"CODE",
     "hide_input_from_viewers":false,
     "hide_output_from_viewers":false,
     "report_properties":{
      "rowId":"28jk2D4umwegfvBY6mqrK4"
     }
    }
   }
  },
  {
   "cell_type":"code",
   "source":[
    "#fraud & normal data shapes\n",
    "fraud = data[data['Class']==1]\n",
    "normal = data[data['Class']==0]\n",
    "\n",
    "print(f\"Shape of Fraudulant transactions: {fraud.shape}\")\n",
    "print(f\"Shape of Non-Fraudulant transactions: {normal.shape}\")"
   ],
   "execution_count":17,
   "outputs":[
    {
     "name":"stdout",
     "text":[
      "Shape of Fraudulant transactions: (492, 31)\n",
      "Shape of Non-Fraudulant transactions: (284315, 31)\n"
     ],
     "output_type":"stream"
    }
   ],
   "metadata":{
    "datalore":{
     "node_id":"1lu3RxiJnYXJQOCgfJbu4X",
     "type":"CODE",
     "hide_input_from_viewers":false,
     "hide_output_from_viewers":false,
     "report_properties":{
      "rowId":"EDlKtFJ4K7HCMdf4b6bFWT"
     }
    }
   }
  },
  {
   "cell_type":"code",
   "source":[
    "pd.concat([fraud.Amount.describe(), normal.Amount.describe()], axis=1)"
   ],
   "execution_count":18,
   "outputs":[
    {
     "data":{
      "text\/html":[
       "<div>\n",
       "<style scoped>\n",
       "    .dataframe tbody tr th:only-of-type {\n",
       "        vertical-align: middle;\n",
       "    }\n",
       "\n",
       "    .dataframe tbody tr th {\n",
       "        vertical-align: top;\n",
       "    }\n",
       "\n",
       "    .dataframe thead th {\n",
       "        text-align: right;\n",
       "    }\n",
       "<\/style>\n",
       "<table border=\"1\" class=\"dataframe\">\n",
       "  <thead>\n",
       "    <tr style=\"text-align: right;\">\n",
       "      <th><\/th>\n",
       "      <th>Amount<\/th>\n",
       "      <th>Amount<\/th>\n",
       "    <\/tr>\n",
       "  <\/thead>\n",
       "  <tbody>\n",
       "    <tr>\n",
       "      <th>count<\/th>\n",
       "      <td>492.00<\/td>\n",
       "      <td>284315.00<\/td>\n",
       "    <\/tr>\n",
       "    <tr>\n",
       "      <th>mean<\/th>\n",
       "      <td>122.21<\/td>\n",
       "      <td>88.29<\/td>\n",
       "    <\/tr>\n",
       "    <tr>\n",
       "      <th>std<\/th>\n",
       "      <td>256.68<\/td>\n",
       "      <td>250.11<\/td>\n",
       "    <\/tr>\n",
       "    <tr>\n",
       "      <th>min<\/th>\n",
       "      <td>0.00<\/td>\n",
       "      <td>0.00<\/td>\n",
       "    <\/tr>\n",
       "    <tr>\n",
       "      <th>25%<\/th>\n",
       "      <td>1.00<\/td>\n",
       "      <td>5.65<\/td>\n",
       "    <\/tr>\n",
       "    <tr>\n",
       "      <th>50%<\/th>\n",
       "      <td>9.25<\/td>\n",
       "      <td>22.00<\/td>\n",
       "    <\/tr>\n",
       "    <tr>\n",
       "      <th>75%<\/th>\n",
       "      <td>105.89<\/td>\n",
       "      <td>77.05<\/td>\n",
       "    <\/tr>\n",
       "    <tr>\n",
       "      <th>max<\/th>\n",
       "      <td>2125.87<\/td>\n",
       "      <td>25691.16<\/td>\n",
       "    <\/tr>\n",
       "  <\/tbody>\n",
       "<\/table>\n",
       "<\/div>"
      ]
     },
     "metadata":{
      
     },
     "output_type":"display_data"
    }
   ],
   "metadata":{
    "datalore":{
     "node_id":"u0Hu9ItZM01nfeo9Wvix5X",
     "type":"CODE",
     "hide_input_from_viewers":false,
     "hide_output_from_viewers":false,
     "report_properties":{
      "rowId":"X1Pd2Mii1FNpr5iUgFcDgo"
     }
    }
   }
  },
  {
   "cell_type":"code",
   "source":[
    "pd.concat([fraud.Time.describe(), normal.Time.describe()], axis=1)"
   ],
   "execution_count":19,
   "outputs":[
    {
     "data":{
      "text\/html":[
       "<div>\n",
       "<style scoped>\n",
       "    .dataframe tbody tr th:only-of-type {\n",
       "        vertical-align: middle;\n",
       "    }\n",
       "\n",
       "    .dataframe tbody tr th {\n",
       "        vertical-align: top;\n",
       "    }\n",
       "\n",
       "    .dataframe thead th {\n",
       "        text-align: right;\n",
       "    }\n",
       "<\/style>\n",
       "<table border=\"1\" class=\"dataframe\">\n",
       "  <thead>\n",
       "    <tr style=\"text-align: right;\">\n",
       "      <th><\/th>\n",
       "      <th>Time<\/th>\n",
       "      <th>Time<\/th>\n",
       "    <\/tr>\n",
       "  <\/thead>\n",
       "  <tbody>\n",
       "    <tr>\n",
       "      <th>count<\/th>\n",
       "      <td>492.00<\/td>\n",
       "      <td>284315.00<\/td>\n",
       "    <\/tr>\n",
       "    <tr>\n",
       "      <th>mean<\/th>\n",
       "      <td>80746.81<\/td>\n",
       "      <td>94838.20<\/td>\n",
       "    <\/tr>\n",
       "    <tr>\n",
       "      <th>std<\/th>\n",
       "      <td>47835.37<\/td>\n",
       "      <td>47484.02<\/td>\n",
       "    <\/tr>\n",
       "    <tr>\n",
       "      <th>min<\/th>\n",
       "      <td>406.00<\/td>\n",
       "      <td>0.00<\/td>\n",
       "    <\/tr>\n",
       "    <tr>\n",
       "      <th>25%<\/th>\n",
       "      <td>41241.50<\/td>\n",
       "      <td>54230.00<\/td>\n",
       "    <\/tr>\n",
       "    <tr>\n",
       "      <th>50%<\/th>\n",
       "      <td>75568.50<\/td>\n",
       "      <td>84711.00<\/td>\n",
       "    <\/tr>\n",
       "    <tr>\n",
       "      <th>75%<\/th>\n",
       "      <td>128483.00<\/td>\n",
       "      <td>139333.00<\/td>\n",
       "    <\/tr>\n",
       "    <tr>\n",
       "      <th>max<\/th>\n",
       "      <td>170348.00<\/td>\n",
       "      <td>172792.00<\/td>\n",
       "    <\/tr>\n",
       "  <\/tbody>\n",
       "<\/table>\n",
       "<\/div>"
      ]
     },
     "metadata":{
      
     },
     "output_type":"display_data"
    }
   ],
   "metadata":{
    "datalore":{
     "node_id":"ebdg0iJZ0n9blXD7WLfe4w",
     "type":"CODE",
     "hide_input_from_viewers":false,
     "hide_output_from_viewers":false,
     "report_properties":{
      "rowId":"RVasNwsn7K2qxI1Dnjmd5x"
     }
    }
   }
  },
  {
   "cell_type":"code",
   "source":[
    "#fraudulant trasaction length\n",
    "plt.figure(figsize=(14, 12))\n",
    "\n",
    "plt.subplot(2, 2, 1)\n",
    "data[data.Class == 1].Time.hist(\n",
    "  bins=35, color='blue', alpha=0.6, label=\"Fraudulant Transaction\"\n",
    ")\n",
    "\n",
    "#non fraudulant transaction\n",
    "\n",
    "plt.legend()\n",
    "\n",
    "plt.subplot(2, 2, 2)\n",
    "data[data.Class == 0].Time.hist(\n",
    "  bins=35, color='blue', alpha=0.6, label=\"Non Fraudulant Transaction\"\n",
    ")\n",
    "plt.legend()"
   ],
   "execution_count":20,
   "outputs":[
    {
     "data":{
      "text\/plain":[
       "<matplotlib.legend.Legend at 0x7eff9b368880>"
      ]
     },
     "metadata":{
      
     },
     "output_type":"display_data"
    },
    {
     "data":{
      "image\/png":"[encoded data removed]"
     },
     "metadata":{
      "image\/png":{
       
      }
     },
     "output_type":"display_data"
    }
   ],
   "metadata":{
    "datalore":{
     "node_id":"ET8jtlI8tz7RfaI3zDZ3AD",
     "type":"CODE",
     "hide_input_from_viewers":false,
     "hide_output_from_viewers":false,
     "report_properties":{
      "rowId":"p4FHfRd7ghGSDuQdwwzCeQ"
     }
    }
   }
  },
  {
   "cell_type":"code",
   "source":[
    "#heatmap for the data correlation\n",
    "import seaborn as sns\n",
    "plt.figure(figsize=(10,10))\n",
    "sns.heatmap(data=data.corr(), cmap=\"seismic\")\n",
    "plt.show();"
   ],
   "execution_count":21,
   "outputs":[
    {
     "data":{
      "image\/png":"[encoded data removed]"
     },
     "metadata":{
      "image\/png":{
       
      }
     },
     "output_type":"display_data"
    }
   ],
   "metadata":{
    "datalore":{
     "node_id":"tqqWh18B5X0I6OIf3PWk6P",
     "type":"CODE",
     "hide_input_from_viewers":false,
     "hide_output_from_viewers":false,
     "report_properties":{
      "rowId":"MDEViwaQffQVEhDA06UWP3"
     }
    }
   }
  },
  {
   "cell_type":"code",
   "source":[
    "#taking values for fraud transaction weight and non fraud transaction weight\n",
    "\n",
    "from sklearn.model_selection import train_test_split\n",
    "from sklearn.preprocessing import StandardScaler\n",
    "\n",
    "scalar = StandardScaler()\n",
    "\n",
    "X = data.drop('Class', axis=1)\n",
    "y = data.Class\n",
    "\n",
    "X_train_v, X_test, y_train_v, y_test = train_test_split(X, y, \n",
    "                                                    test_size=0.3, random_state=42)\n",
    "X_train, X_validate, y_train, y_validate = train_test_split(X_train_v, y_train_v, \n",
    "                                                            test_size=0.2, random_state=42)\n",
    "\n",
    "X_train = scalar.fit_transform(X_train)\n",
    "X_validate = scalar.transform(X_validate)\n",
    "X_test = scalar.transform(X_test)\n",
    "\n",
    "w_p = y_train.value_counts()[0] \/ len(y_train)\n",
    "w_n = y_train.value_counts()[1] \/ len(y_train)\n",
    "\n",
    "print(f\"Fraudulant transaction weight: {w_n}\")\n",
    "print(f\"Non-Fraudulant transaction weight: {w_p}\")"
   ],
   "execution_count":22,
   "outputs":[
    {
     "name":"stdout",
     "text":[
      "Fraudulant transaction weight: 0.0017994745785028623\n",
      "Non-Fraudulant transaction weight: 0.9982005254214972\n"
     ],
     "output_type":"stream"
    }
   ],
   "metadata":{
    "datalore":{
     "node_id":"KREPTlyTsLc2hPA3THtAzR",
     "type":"CODE",
     "hide_input_from_viewers":false,
     "hide_output_from_viewers":false,
     "report_properties":{
      "rowId":"POpFycgyj3GOq5RwvIHpIE"
     }
    }
   }
  },
  {
   "cell_type":"code",
   "source":[
    "#TRAININ VALIDATION AND TESTING \n",
    "print(f\"TRAINING: X_train: {X_train.shape}, y_train: {y_train.shape}\\n{'_'*55}\")\n",
    "print(f\"VALIDATION: X_validate: {X_validate.shape}, y_validate: {y_validate.shape}\\n{'_'*50}\")\n",
    "print(f\"TESTING: X_test: {X_test.shape}, y_test: {y_test.shape}\")"
   ],
   "execution_count":23,
   "outputs":[
    {
     "name":"stdout",
     "text":[
      "TRAINING: X_train: (159491, 30), y_train: (159491,)\n",
      "_______________________________________________________\n",
      "VALIDATION: X_validate: (39873, 30), y_validate: (39873,)\n",
      "__________________________________________________\n",
      "TESTING: X_test: (85443, 30), y_test: (85443,)\n"
     ],
     "output_type":"stream"
    }
   ],
   "metadata":{
    "datalore":{
     "node_id":"qPD5qSNMBTS0WSbbiAvjWy",
     "type":"CODE",
     "hide_input_from_viewers":false,
     "hide_output_from_viewers":false,
     "report_properties":{
      "rowId":"cNtiEo4PXA36LVdjiotwAA"
     }
    }
   }
  },
  {
   "cell_type":"code",
   "source":[
    "#normal and fraud amout decsribing\n",
    "normal.Amount.describe()\n",
    "fraud.Amount.describe()\n",
    "\n",
    "sns.relplot(x = 'Amount' , y = 'Time' , hue = 'Class', data = data)\n"
   ],
   "execution_count":24,
   "outputs":[
    {
     "data":{
      "text\/plain":[
       "<seaborn.axisgrid.FacetGrid at 0x7eff818844f0>"
      ]
     },
     "metadata":{
      
     },
     "output_type":"display_data"
    },
    {
     "data":{
      "image\/png":"[encoded data removed]"
     },
     "metadata":{
      "image\/png":{
       
      }
     },
     "output_type":"display_data"
    }
   ],
   "metadata":{
    "datalore":{
     "node_id":"eSwyULxloH8yNhwiMh0yDE",
     "type":"CODE",
     "hide_input_from_viewers":false,
     "hide_output_from_viewers":false,
     "report_properties":{
      "rowId":"eDPzmd29FBlAphVZ3dKynt"
     }
    }
   }
  },
  {
   "cell_type":"code",
   "source":[
    "data=pd.read_csv('creditcard.csv')\n",
    "plt.plot( data.Time, data.Amount, \"r--\")\n",
    "plt.show"
   ],
   "execution_count":25,
   "outputs":[
    {
     "name":"stdout",
     "text":[
      "Error in callback <function _draw_all_if_interactive at 0x7eff9b7a4940> (for post_execute):\n"
     ],
     "output_type":"stream"
    },
    {
     "data":{
      "text\/plain":[
       "<function matplotlib.pyplot.show(close=None, block=None)>"
      ]
     },
     "metadata":{
      
     },
     "output_type":"display_data"
    },
    {
     "data":{
      "image\/png":"[encoded data removed]"
     },
     "metadata":{
      "image\/png":{
       
      }
     },
     "output_type":"display_data"
    }
   ],
   "metadata":{
    "datalore":{
     "node_id":"7mNfJ15CEDNco6irwNMUvB",
     "type":"CODE",
     "hide_input_from_viewers":false,
     "hide_output_from_viewers":false,
     "report_properties":{
      "rowId":"ULeMPc4F7VuVuHvVD85o4h"
     }
    }
   }
  },
  {
   "cell_type":"code",
   "source":[
    "from sklearn.model_selection import train_test_split\n",
    "x_train,x_test,y_train,y_test=train_test_split(x,y,random_state=0)\n",
    "x_train.shape"
   ],
   "execution_count":69,
   "outputs":[
    {
     "data":{
      "text\/plain":[
       "(213605, 4)"
      ]
     },
     "metadata":{
      
     },
     "output_type":"display_data"
    }
   ],
   "metadata":{
    "datalore":{
     "node_id":"xpcGT1K9ZH1FDQJYahvX5j",
     "type":"CODE",
     "hide_input_from_viewers":false,
     "hide_output_from_viewers":false,
     "report_properties":{
      "rowId":"F3B86q1VGTpAYgKyod9CKH"
     }
    }
   }
  },
  {
   "cell_type":"code",
   "source":[
    "x_test.shape"
   ],
   "execution_count":70,
   "outputs":[
    {
     "data":{
      "text\/plain":[
       "(71202, 4)"
      ]
     },
     "metadata":{
      
     },
     "output_type":"display_data"
    }
   ],
   "metadata":{
    "datalore":{
     "node_id":"fcASsqCCDBPtayMgC8tfc4",
     "type":"CODE",
     "hide_input_from_viewers":false,
     "hide_output_from_viewers":false,
     "report_properties":{
      "rowId":"5AHIUqyQreIBkR0QSAok49"
     }
    }
   }
  },
  {
   "cell_type":"code",
   "source":[
    "y_train.shape"
   ],
   "execution_count":71,
   "outputs":[
    {
     "data":{
      "text\/plain":[
       "(213605,)"
      ]
     },
     "metadata":{
      
     },
     "output_type":"display_data"
    }
   ],
   "metadata":{
    "datalore":{
     "node_id":"kUrZ2Ubgd6VZGj3ODgr2FJ",
     "type":"CODE",
     "hide_input_from_viewers":false,
     "hide_output_from_viewers":false,
     "report_properties":{
      "rowId":"lZscSdhmOniTwo8V0u835b"
     }
    }
   }
  },
  {
   "cell_type":"code",
   "source":[
    "y_test.shape"
   ],
   "execution_count":72,
   "outputs":[
    {
     "data":{
      "text\/plain":[
       "(71202,)"
      ]
     },
     "metadata":{
      
     },
     "output_type":"display_data"
    }
   ],
   "metadata":{
    "datalore":{
     "node_id":"dSiH8JeJB0rvrFBaR5C1O9",
     "type":"CODE",
     "hide_input_from_viewers":false,
     "hide_output_from_viewers":false,
     "report_properties":{
      "rowId":"VmQTNUOE6gYFKqsma717H0"
     }
    }
   }
  }
 ],
 "metadata":{
  "kernelspec":{
   "display_name":"Python",
   "language":"python",
   "name":"python"
  },
  "datalore":{
   "computation_mode":"JUPYTER",
   "package_manager":"pip",
   "base_environment":"default",
   "packages":[
    
   ],
   "report_row_ids":[
    "ijFH9wyIiqvey5sQtETYil",
    "JzG0PqpLoNPbEdXFEhsvlN",
    "MWsladsQzxHyt2OGvwSE4D",
    "wjHVbznLt605VcJeV5Cdfj",
    "vM9USCIUbBqqBtuQvwy2ln",
    "qNhis5vOZGNMKaKyrOaQhv",
    "6sahIVHNCsqXGQtPAjsrns",
    "4cd64RE73eFVG2ng9iW20E",
    "OKnPNIuJAQaC9S1K3WP2WP",
    "22K1tXXVQX9HkgkTsEL5X0",
    "28jk2D4umwegfvBY6mqrK4",
    "EDlKtFJ4K7HCMdf4b6bFWT",
    "X1Pd2Mii1FNpr5iUgFcDgo",
    "RVasNwsn7K2qxI1Dnjmd5x",
    "p4FHfRd7ghGSDuQdwwzCeQ",
    "MDEViwaQffQVEhDA06UWP3",
    "POpFycgyj3GOq5RwvIHpIE",
    "cNtiEo4PXA36LVdjiotwAA",
    "eDPzmd29FBlAphVZ3dKynt",
    "ULeMPc4F7VuVuHvVD85o4h",
    "F3B86q1VGTpAYgKyod9CKH",
    "5AHIUqyQreIBkR0QSAok49",
    "lZscSdhmOniTwo8V0u835b",
    "VmQTNUOE6gYFKqsma717H0"
   ],
   "version":3
  }
 },
 "nbformat":4,
 "nbformat_minor":4
}